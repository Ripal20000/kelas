{
  "nbformat": 4,
  "nbformat_minor": 0,
  "metadata": {
    "colab": {
      "provenance": [],
      "collapsed_sections": []
    },
    "kernelspec": {
      "name": "python3",
      "display_name": "Python 3"
    },
    "language_info": {
      "name": "python"
    }
  },
  "cells": [
    {
      "cell_type": "markdown",
      "source": [
        "# **Sesi 3: Menghasilkan Bar Chart dengan MatplotLib**"
      ],
      "metadata": {
        "id": "0490wyi9O2Yk"
      }
    },
    {
      "cell_type": "markdown",
      "source": [
        "## **Praktek: Menghasilkan Bar Plot untuk data master produk (nama produk dan harga) dengan membaca file ms_produk.txt​**"
      ],
      "metadata": {
        "id": "8f3CYw-gsOtX"
      }
    },
    {
      "cell_type": "code",
      "source": [
        "#import library numpy dan matplotlib\n",
        "import numpy as np\n",
        "import matplotlib.pyplot as plt"
      ],
      "metadata": {
        "id": "6Y8uptJoO5kh"
      },
      "execution_count": 1,
      "outputs": []
    },
    {
      "cell_type": "code",
      "source": [
        "#Contoh Create Bar Chart - Data Array Numpy\n",
        "x = np.arange(0,10,1)\n",
        "y = np.arange(0,10)\n",
        "plt.bar(x,y)"
      ],
      "metadata": {
        "colab": {
          "base_uri": "https://localhost:8080/",
          "height": 282
        },
        "id": "INi-fA-P_3lo",
        "outputId": "c4451a33-1814-432b-f1b1-1f25a489699b"
      },
      "execution_count": 2,
      "outputs": [
        {
          "output_type": "execute_result",
          "data": {
            "text/plain": [
              "<BarContainer object of 10 artists>"
            ]
          },
          "metadata": {},
          "execution_count": 2
        },
        {
          "output_type": "display_data",
          "data": {
            "text/plain": [
              "<Figure size 432x288 with 1 Axes>"
            ],
            "image/png": "[encoded data removed]"
          },
          "metadata": {
            "needs_background": "light"
          }
        }
      ]
    },
    {
      "cell_type": "code",
      "source": [
        "#Contoh Create Bar Chart - Data List\n",
        "x = [\"Textil\", \"Food\", \"Beverage\", \"Electronics\"]\n",
        "y = [4, 8, 3, 10]\n",
        "plt.bar(x,y)"
      ],
      "metadata": {
        "colab": {
          "base_uri": "https://localhost:8080/",
          "height": 282
        },
        "id": "k49nJprj-myQ",
        "outputId": "f630b26e-945e-43ca-ba38-c6861641cd22"
      },
      "execution_count": 3,
      "outputs": [
        {
          "output_type": "execute_result",
          "data": {
            "text/plain": [
              "<BarContainer object of 4 artists>"
            ]
          },
          "metadata": {},
          "execution_count": 3
        },
        {
          "output_type": "display_data",
          "data": {
            "text/plain": [
              "<Figure size 432x288 with 1 Axes>"
            ],
            "image/png": "[encoded data removed]"
          },
          "metadata": {
            "needs_background": "light"
          }
        }
      ]
    },
    {
      "cell_type": "markdown",
      "source": [
        "## Contoh Memberikan Label pada Bar Chart (Vertical) "
      ],
      "metadata": {
        "id": "FF8rrHyvcTk5"
      }
    },
    {
      "cell_type": "code",
      "source": [
        "def addlabels(x,y):\n",
        "    for i in range(len(x)):\n",
        "        plt.text(i,y[i],y[i])\n",
        "\n",
        "if __name__ == '__main__':\n",
        "\n",
        "    # making the bar chart on the data\n",
        "    plt.bar(x, y)\n",
        "      \n",
        "    # calling the function to add value labels\n",
        "    addlabels(x, y)\n",
        "      \n",
        "    # giving title to the plot\n",
        "    plt.title(\"College Admission\")\n",
        "      \n",
        "    # giving X and Y labels\n",
        "    plt.xlabel(\"Product Category\")\n",
        "    plt.ylabel(\"Number of Sales\")\n",
        "      \n",
        "    # visualizing the plot\n",
        "    plt.show()"
      ],
      "metadata": {
        "colab": {
          "base_uri": "https://localhost:8080/",
          "height": 295
        },
        "id": "1ZKTIhoEbfmr",
        "outputId": "4f435d8d-fd4a-4f60-d736-524e0e90854a"
      },
      "execution_count": 4,
      "outputs": [
        {
          "output_type": "display_data",
          "data": {
            "text/plain": [
              "<Figure size 432x288 with 1 Axes>"
            ],
            "image/png": "[encoded data removed]"
          },
          "metadata": {
            "needs_background": "light"
          }
        }
      ]
    },
    {
      "cell_type": "code",
      "source": [
        "from google.colab import drive\n",
        "drive.mount('/content/drive')"
      ],
      "metadata": {
        "colab": {
          "base_uri": "https://localhost:8080/"
        },
        "id": "CjUnb7qcFv0G",
        "outputId": "0d3c0ad5-a30c-4f0e-a518-f53c7d818912"
      },
      "execution_count": 5,
      "outputs": [
        {
          "output_type": "stream",
          "name": "stdout",
          "text": [
            "Drive already mounted at /content/drive; to attempt to forcibly remount, call drive.mount(\"/content/drive\", force_remount=True).\n"
          ]
        }
      ]
    },
    {
      "cell_type": "code",
      "source": [
        "#pd.read_csv\n",
        "#import file ms_produk dan cek isi file di baris 1-2\n",
        "ms_produk = np.loadtxt('/content/drive/MyDrive/DQLab/Python Metaclass/ms_produk.txt', \n",
        "                       dtype='str', delimiter='\\t')\n",
        "print(ms_produk)"
      ],
      "metadata": {
        "id": "3A2ARJg8toxk",
        "colab": {
          "base_uri": "https://localhost:8080/"
        },
        "outputId": "125f9550-6b80-4267-89fd-a169cbd27303"
      },
      "execution_count": 6,
      "outputs": [
        {
          "output_type": "stream",
          "name": "stdout",
          "text": [
            "[['kode_produk' 'no_urut' 'kategori_produk' 'nama_produk' 'harga']\n",
            " ['prod-01' '1' 'Alat Tulis Kantor' 'Kotak Pensil DQLab' '62500']\n",
            " ['prod-02' '2' 'Aksesoris Komputer' 'Flashdisk DQLab 64 GB' '55000']\n",
            " ['prod-03' '3' 'Gift & Voucher' 'Gift Voucher DQLab 100rb' '100000']\n",
            " ['prod-04' '4' 'Aksesoris Komputer' 'Flashdisk DQLab 32 GB' '40000']\n",
            " ['prod-05' '5' 'Gift & Voucher' 'Gift Voucher DQLab 250rb' '250000']\n",
            " ['prod-06' '6' 'Alat Tulis Kantor' 'Pulpen Multifunction + Laser DQLab'\n",
            "  '92500']\n",
            " ['prod-07' '7' 'Gift & Voucher' 'Tas Travel Organizer DigiSkills.id'\n",
            "  '48000']\n",
            " ['prod-08' '8' 'Gift & Voucher' 'Gantungan Kunci DQLab' '15800']\n",
            " ['prod-09' '9' 'Alat Tulis Kantor' 'Buku Planner Agenda DQLab' '92000']\n",
            " ['prod-10' '10' 'Alat Tulis Kantor' 'Sticky Notes DQLab 500 sheets'\n",
            "  '55000']]\n"
          ]
        }
      ]
    },
    {
      "cell_type": "code",
      "source": [
        "type(ms_produk)"
      ],
      "metadata": {
        "colab": {
          "base_uri": "https://localhost:8080/"
        },
        "id": "0-6AWo_qJqEo",
        "outputId": "48d14ead-f988-40b1-a275-b2c3c3dfa754"
      },
      "execution_count": 7,
      "outputs": [
        {
          "output_type": "execute_result",
          "data": {
            "text/plain": [
              "numpy.ndarray"
            ]
          },
          "metadata": {},
          "execution_count": 7
        }
      ]
    },
    {
      "cell_type": "code",
      "source": [
        "ms_produk"
      ],
      "metadata": {
        "colab": {
          "base_uri": "https://localhost:8080/"
        },
        "id": "4N2K1TpBOpmP",
        "outputId": "a704abf4-b17b-4e5d-fb0c-f7ca6560ed10"
      },
      "execution_count": 8,
      "outputs": [
        {
          "output_type": "execute_result",
          "data": {
            "text/plain": [
              "array([['kode_produk', 'no_urut', 'kategori_produk', 'nama_produk',\n",
              "        'harga'],\n",
              "       ['prod-01', '1', 'Alat Tulis Kantor', 'Kotak Pensil DQLab',\n",
              "        '62500'],\n",
              "       ['prod-02', '2', 'Aksesoris Komputer', 'Flashdisk DQLab 64 GB',\n",
              "        '55000'],\n",
              "       ['prod-03', '3', 'Gift & Voucher', 'Gift Voucher DQLab 100rb',\n",
              "        '100000'],\n",
              "       ['prod-04', '4', 'Aksesoris Komputer', 'Flashdisk DQLab 32 GB',\n",
              "        '40000'],\n",
              "       ['prod-05', '5', 'Gift & Voucher', 'Gift Voucher DQLab 250rb',\n",
              "        '250000'],\n",
              "       ['prod-06', '6', 'Alat Tulis Kantor',\n",
              "        'Pulpen Multifunction + Laser DQLab', '92500'],\n",
              "       ['prod-07', '7', 'Gift & Voucher',\n",
              "        'Tas Travel Organizer DigiSkills.id', '48000'],\n",
              "       ['prod-08', '8', 'Gift & Voucher', 'Gantungan Kunci DQLab',\n",
              "        '15800'],\n",
              "       ['prod-09', '9', 'Alat Tulis Kantor', 'Buku Planner Agenda DQLab',\n",
              "        '92000'],\n",
              "       ['prod-10', '10', 'Alat Tulis Kantor',\n",
              "        'Sticky Notes DQLab 500 sheets', '55000']], dtype='<U34')"
            ]
          },
          "metadata": {},
          "execution_count": 8
        }
      ]
    },
    {
      "cell_type": "code",
      "source": [
        "#ambil semua elemen kolom ke-4 (ms_produk[n,3]) sebagai nama produk\n",
        "nama_produk = ms_produk[:,3]\n",
        "nama_produk"
      ],
      "metadata": {
        "id": "ywS4fpUFxfgS",
        "colab": {
          "base_uri": "https://localhost:8080/"
        },
        "outputId": "03046cd0-0866-4ee1-b643-869a578c04cf"
      },
      "execution_count": 9,
      "outputs": [
        {
          "output_type": "execute_result",
          "data": {
            "text/plain": [
              "array(['nama_produk', 'Kotak Pensil DQLab', 'Flashdisk DQLab 64 GB',\n",
              "       'Gift Voucher DQLab 100rb', 'Flashdisk DQLab 32 GB',\n",
              "       'Gift Voucher DQLab 250rb', 'Pulpen Multifunction + Laser DQLab',\n",
              "       'Tas Travel Organizer DigiSkills.id', 'Gantungan Kunci DQLab',\n",
              "       'Buku Planner Agenda DQLab', 'Sticky Notes DQLab 500 sheets'],\n",
              "      dtype='<U34')"
            ]
          },
          "metadata": {},
          "execution_count": 9
        }
      ]
    },
    {
      "cell_type": "code",
      "source": [
        "nama_produk[0]"
      ],
      "metadata": {
        "colab": {
          "base_uri": "https://localhost:8080/",
          "height": 36
        },
        "id": "2NuevuxkK04w",
        "outputId": "81e95ba8-f2c4-4c29-e50e-292a80badee5"
      },
      "execution_count": 10,
      "outputs": [
        {
          "output_type": "execute_result",
          "data": {
            "text/plain": [
              "'nama_produk'"
            ],
            "application/vnd.google.colaboratory.intrinsic+json": {
              "type": "string"
            }
          },
          "metadata": {},
          "execution_count": 10
        }
      ]
    },
    {
      "cell_type": "code",
      "source": [
        "np.delete(nama_produk, 0)"
      ],
      "metadata": {
        "colab": {
          "base_uri": "https://localhost:8080/"
        },
        "id": "TW0UG9_HLYqd",
        "outputId": "d08f310c-5e70-4265-f5a4-b948627bf30d"
      },
      "execution_count": 11,
      "outputs": [
        {
          "output_type": "execute_result",
          "data": {
            "text/plain": [
              "array(['Kotak Pensil DQLab', 'Flashdisk DQLab 64 GB',\n",
              "       'Gift Voucher DQLab 100rb', 'Flashdisk DQLab 32 GB',\n",
              "       'Gift Voucher DQLab 250rb', 'Pulpen Multifunction + Laser DQLab',\n",
              "       'Tas Travel Organizer DigiSkills.id', 'Gantungan Kunci DQLab',\n",
              "       'Buku Planner Agenda DQLab', 'Sticky Notes DQLab 500 sheets'],\n",
              "      dtype='<U34')"
            ]
          },
          "metadata": {},
          "execution_count": 11
        }
      ]
    },
    {
      "cell_type": "code",
      "source": [
        "#hapus elemen 'nama_produk' dari array\n",
        "x = np.delete(nama_produk, 0)\n",
        "x"
      ],
      "metadata": {
        "id": "frf5bE9DytFw",
        "colab": {
          "base_uri": "https://localhost:8080/"
        },
        "outputId": "73ea0ed7-c086-464c-cc27-49e7bbb7ceea"
      },
      "execution_count": 12,
      "outputs": [
        {
          "output_type": "execute_result",
          "data": {
            "text/plain": [
              "array(['Kotak Pensil DQLab', 'Flashdisk DQLab 64 GB',\n",
              "       'Gift Voucher DQLab 100rb', 'Flashdisk DQLab 32 GB',\n",
              "       'Gift Voucher DQLab 250rb', 'Pulpen Multifunction + Laser DQLab',\n",
              "       'Tas Travel Organizer DigiSkills.id', 'Gantungan Kunci DQLab',\n",
              "       'Buku Planner Agenda DQLab', 'Sticky Notes DQLab 500 sheets'],\n",
              "      dtype='<U34')"
            ]
          },
          "metadata": {},
          "execution_count": 12
        }
      ]
    },
    {
      "cell_type": "code",
      "source": [
        "#ambil semua elemen kolom ke-5 (ms_produk[n,4]) sebagai nama produk\n",
        "harga = ms_produk[:,4]\n",
        "harga"
      ],
      "metadata": {
        "id": "ZcUc2Rt4uX81",
        "colab": {
          "base_uri": "https://localhost:8080/"
        },
        "outputId": "7f77f9c0-772e-43fd-8ae6-b16f9ad00c7c"
      },
      "execution_count": 13,
      "outputs": [
        {
          "output_type": "execute_result",
          "data": {
            "text/plain": [
              "array(['harga', '62500', '55000', '100000', '40000', '250000', '92500',\n",
              "       '48000', '15800', '92000', '55000'], dtype='<U34')"
            ]
          },
          "metadata": {},
          "execution_count": 13
        }
      ]
    },
    {
      "cell_type": "code",
      "source": [
        "#hapus elemen 'harga' dari array\n",
        "y = np.delete(harga, 0)\n",
        "y"
      ],
      "metadata": {
        "id": "IRqHQppczc8F",
        "colab": {
          "base_uri": "https://localhost:8080/"
        },
        "outputId": "637fc52a-84e0-4190-a4ca-3150c086b29e"
      },
      "execution_count": 14,
      "outputs": [
        {
          "output_type": "execute_result",
          "data": {
            "text/plain": [
              "array(['62500', '55000', '100000', '40000', '250000', '92500', '48000',\n",
              "       '15800', '92000', '55000'], dtype='<U34')"
            ]
          },
          "metadata": {},
          "execution_count": 14
        }
      ]
    },
    {
      "cell_type": "code",
      "source": [
        "plt.barh(x, y)"
      ],
      "metadata": {
        "colab": {
          "base_uri": "https://localhost:8080/",
          "height": 282
        },
        "id": "qZik5daZn3dS",
        "outputId": "dde7a886-80b2-47db-b9ff-9fc2d784f365"
      },
      "execution_count": 24,
      "outputs": [
        {
          "output_type": "execute_result",
          "data": {
            "text/plain": [
              "<BarContainer object of 10 artists>"
            ]
          },
          "metadata": {},
          "execution_count": 24
        },
        {
          "output_type": "display_data",
          "data": {
            "text/plain": [
              "<Figure size 432x288 with 1 Axes>"
            ],
            "image/png": "[encoded data removed]"
          },
          "metadata": {
            "needs_background": "light"
          }
        }
      ]
    },
    {
      "cell_type": "markdown",
      "source": [
        "## Visualisasi untuk Sort Harga dengan diikuti Perubahan pada Kolom Nama Produk\n",
        "Karena konsep array hanya bisa 1 tipe data maka jika salah satu anggota di array terdapat string meskipun harga di ubah tipe tetap tidak bisa mengubah order dari Nama Produk\n",
        "Solusi : Data Array diubah ke dalam Dataframe Pandas"
      ],
      "metadata": {
        "id": "gU7HXAfnk5uB"
      }
    },
    {
      "cell_type": "code",
      "source": [
        "import pandas as pd\n",
        "df = pd.DataFrame(data = ms_produk[1:, 1:],\n",
        "                        columns = ms_produk[0, 1:])\n",
        "df"
      ],
      "metadata": {
        "colab": {
          "base_uri": "https://localhost:8080/",
          "height": 363
        },
        "id": "xMo6JGwRlVCN",
        "outputId": "09780f0b-c3ae-4291-87b8-2da78b8b9210"
      },
      "execution_count": 15,
      "outputs": [
        {
          "output_type": "execute_result",
          "data": {
            "text/plain": [
              "  no_urut     kategori_produk                         nama_produk   harga\n",
              "0       1   Alat Tulis Kantor                  Kotak Pensil DQLab   62500\n",
              "1       2  Aksesoris Komputer               Flashdisk DQLab 64 GB   55000\n",
              "2       3      Gift & Voucher            Gift Voucher DQLab 100rb  100000\n",
              "3       4  Aksesoris Komputer               Flashdisk DQLab 32 GB   40000\n",
              "4       5      Gift & Voucher            Gift Voucher DQLab 250rb  250000\n",
              "5       6   Alat Tulis Kantor  Pulpen Multifunction + Laser DQLab   92500\n",
              "6       7      Gift & Voucher  Tas Travel Organizer DigiSkills.id   48000\n",
              "7       8      Gift & Voucher               Gantungan Kunci DQLab   15800\n",
              "8       9   Alat Tulis Kantor           Buku Planner Agenda DQLab   92000\n",
              "9      10   Alat Tulis Kantor       Sticky Notes DQLab 500 sheets   55000"
            ],
            "text/html": [
              "\n",
              "  <div id=\"df-bf19fab8-b272-49f8-97b2-50978830dfc2\">\n",
              "    <div class=\"colab-df-container\">\n",
              "      <div>\n",
              "<style scoped>\n",
              "    .dataframe tbody tr th:only-of-type {\n",
              "        vertical-align: middle;\n",
              "    }\n",
              "\n",
              "    .dataframe tbody tr th {\n",
              "        vertical-align: top;\n",
              "    }\n",
              "\n",
              "    .dataframe thead th {\n",
              "        text-align: right;\n",
              "    }\n",
              "</style>\n",
              "<table border=\"1\" class=\"dataframe\">\n",
              "  <thead>\n",
              "    <tr style=\"text-align: right;\">\n",
              "      <th></th>\n",
              "      <th>no_urut</th>\n",
              "      <th>kategori_produk</th>\n",
              "      <th>nama_produk</th>\n",
              "      <th>harga</th>\n",
              "    </tr>\n",
              "  </thead>\n",
              "  <tbody>\n",
              "    <tr>\n",
              "      <th>0</th>\n",
              "      <td>1</td>\n",
              "      <td>Alat Tulis Kantor</td>\n",
              "      <td>Kotak Pensil DQLab</td>\n",
              "      <td>62500</td>\n",
              "    </tr>\n",
              "    <tr>\n",
              "      <th>1</th>\n",
              "      <td>2</td>\n",
              "      <td>Aksesoris Komputer</td>\n",
              "      <td>Flashdisk DQLab 64 GB</td>\n",
              "      <td>55000</td>\n",
              "    </tr>\n",
              "    <tr>\n",
              "      <th>2</th>\n",
              "      <td>3</td>\n",
              "      <td>Gift &amp; Voucher</td>\n",
              "      <td>Gift Voucher DQLab 100rb</td>\n",
              "      <td>100000</td>\n",
              "    </tr>\n",
              "    <tr>\n",
              "      <th>3</th>\n",
              "      <td>4</td>\n",
              "      <td>Aksesoris Komputer</td>\n",
              "      <td>Flashdisk DQLab 32 GB</td>\n",
              "      <td>40000</td>\n",
              "    </tr>\n",
              "    <tr>\n",
              "      <th>4</th>\n",
              "      <td>5</td>\n",
              "      <td>Gift &amp; Voucher</td>\n",
              "      <td>Gift Voucher DQLab 250rb</td>\n",
              "      <td>250000</td>\n",
              "    </tr>\n",
              "    <tr>\n",
              "      <th>5</th>\n",
              "      <td>6</td>\n",
              "      <td>Alat Tulis Kantor</td>\n",
              "      <td>Pulpen Multifunction + Laser DQLab</td>\n",
              "      <td>92500</td>\n",
              "    </tr>\n",
              "    <tr>\n",
              "      <th>6</th>\n",
              "      <td>7</td>\n",
              "      <td>Gift &amp; Voucher</td>\n",
              "      <td>Tas Travel Organizer DigiSkills.id</td>\n",
              "      <td>48000</td>\n",
              "    </tr>\n",
              "    <tr>\n",
              "      <th>7</th>\n",
              "      <td>8</td>\n",
              "      <td>Gift &amp; Voucher</td>\n",
              "      <td>Gantungan Kunci DQLab</td>\n",
              "      <td>15800</td>\n",
              "    </tr>\n",
              "    <tr>\n",
              "      <th>8</th>\n",
              "      <td>9</td>\n",
              "      <td>Alat Tulis Kantor</td>\n",
              "      <td>Buku Planner Agenda DQLab</td>\n",
              "      <td>92000</td>\n",
              "    </tr>\n",
              "    <tr>\n",
              "      <th>9</th>\n",
              "      <td>10</td>\n",
              "      <td>Alat Tulis Kantor</td>\n",
              "      <td>Sticky Notes DQLab 500 sheets</td>\n",
              "      <td>55000</td>\n",
              "    </tr>\n",
              "  </tbody>\n",
              "</table>\n",
              "</div>\n",
              "      <button class=\"colab-df-convert\" onclick=\"convertToInteractive('df-bf19fab8-b272-49f8-97b2-50978830dfc2')\"\n",
              "              title=\"Convert this dataframe to an interactive table.\"\n",
              "              style=\"display:none;\">\n",
              "        \n",
              "  <svg xmlns=\"http://www.w3.org/2000/svg\" height=\"24px\"viewBox=\"0 0 24 24\"\n",
              "       width=\"24px\">\n",
              "    <path d=\"M0 0h24v24H0V0z\" fill=\"none\"/>\n",
              "    <path d=\"M18.56 5.44l.94 2.06.94-2.06 2.06-.94-2.06-.94-.94-2.06-.94 2.06-2.06.94zm-11 1L8.5 8.5l.94-2.06 2.06-.94-2.06-.94L8.5 2.5l-.94 2.06-2.06.94zm10 10l.94 2.06.94-2.06 2.06-.94-2.06-.94-.94-2.06-.94 2.06-2.06.94z\"/><path d=\"M17.41 7.96l-1.37-1.37c-.4-.4-.92-.59-1.43-.59-.52 0-1.04.2-1.43.59L10.3 9.45l-7.72 7.72c-.78.78-.78 2.05 0 2.83L4 21.41c.39.39.9.59 1.41.59.51 0 1.02-.2 1.41-.59l7.78-7.78 2.81-2.81c.8-.78.8-2.07 0-2.86zM5.41 20L4 18.59l7.72-7.72 1.47 1.35L5.41 20z\"/>\n",
              "  </svg>\n",
              "      </button>\n",
              "      \n",
              "  <style>\n",
              "    .colab-df-container {\n",
              "      display:flex;\n",
              "      flex-wrap:wrap;\n",
              "      gap: 12px;\n",
              "    }\n",
              "\n",
              "    .colab-df-convert {\n",
              "      background-color: #E8F0FE;\n",
              "      border: none;\n",
              "      border-radius: 50%;\n",
              "      cursor: pointer;\n",
              "      display: none;\n",
              "      fill: #1967D2;\n",
              "      height: 32px;\n",
              "      padding: 0 0 0 0;\n",
              "      width: 32px;\n",
              "    }\n",
              "\n",
              "    .colab-df-convert:hover {\n",
              "      background-color: #E2EBFA;\n",
              "      box-shadow: 0px 1px 2px rgba(60, 64, 67, 0.3), 0px 1px 3px 1px rgba(60, 64, 67, 0.15);\n",
              "      fill: #174EA6;\n",
              "    }\n",
              "\n",
              "    [theme=dark] .colab-df-convert {\n",
              "      background-color: #3B4455;\n",
              "      fill: #D2E3FC;\n",
              "    }\n",
              "\n",
              "    [theme=dark] .colab-df-convert:hover {\n",
              "      background-color: #434B5C;\n",
              "      box-shadow: 0px 1px 3px 1px rgba(0, 0, 0, 0.15);\n",
              "      filter: drop-shadow(0px 1px 2px rgba(0, 0, 0, 0.3));\n",
              "      fill: #FFFFFF;\n",
              "    }\n",
              "  </style>\n",
              "\n",
              "      <script>\n",
              "        const buttonEl =\n",
              "          document.querySelector('#df-bf19fab8-b272-49f8-97b2-50978830dfc2 button.colab-df-convert');\n",
              "        buttonEl.style.display =\n",
              "          google.colab.kernel.accessAllowed ? 'block' : 'none';\n",
              "\n",
              "        async function convertToInteractive(key) {\n",
              "          const element = document.querySelector('#df-bf19fab8-b272-49f8-97b2-50978830dfc2');\n",
              "          const dataTable =\n",
              "            await google.colab.kernel.invokeFunction('convertToInteractive',\n",
              "                                                     [key], {});\n",
              "          if (!dataTable) return;\n",
              "\n",
              "          const docLinkHtml = 'Like what you see? Visit the ' +\n",
              "            '<a target=\"_blank\" href=https://colab.research.google.com/notebooks/data_table.ipynb>data table notebook</a>'\n",
              "            + ' to learn more about interactive tables.';\n",
              "          element.innerHTML = '';\n",
              "          dataTable['output_type'] = 'display_data';\n",
              "          await google.colab.output.renderOutput(dataTable, element);\n",
              "          const docLink = document.createElement('div');\n",
              "          docLink.innerHTML = docLinkHtml;\n",
              "          element.appendChild(docLink);\n",
              "        }\n",
              "      </script>\n",
              "    </div>\n",
              "  </div>\n",
              "  "
            ]
          },
          "metadata": {},
          "execution_count": 15
        }
      ]
    },
    {
      "cell_type": "code",
      "source": [
        "df.info()"
      ],
      "metadata": {
        "colab": {
          "base_uri": "https://localhost:8080/"
        },
        "id": "Y8qfyDCumOC1",
        "outputId": "7aadd814-0d34-4e28-a1c9-d953cfaf83e9"
      },
      "execution_count": 16,
      "outputs": [
        {
          "output_type": "stream",
          "name": "stdout",
          "text": [
            "<class 'pandas.core.frame.DataFrame'>\n",
            "RangeIndex: 10 entries, 0 to 9\n",
            "Data columns (total 4 columns):\n",
            " #   Column           Non-Null Count  Dtype \n",
            "---  ------           --------------  ----- \n",
            " 0   no_urut          10 non-null     object\n",
            " 1   kategori_produk  10 non-null     object\n",
            " 2   nama_produk      10 non-null     object\n",
            " 3   harga            10 non-null     object\n",
            "dtypes: object(4)\n",
            "memory usage: 448.0+ bytes\n"
          ]
        }
      ]
    },
    {
      "cell_type": "code",
      "source": [
        "#Convert type of harga\n",
        "df['harga'] = pd.to_numeric(df['harga'])\n",
        "df.info()"
      ],
      "metadata": {
        "colab": {
          "base_uri": "https://localhost:8080/"
        },
        "id": "182ew5S4mVQr",
        "outputId": "fcb10eeb-af80-4ee2-c4dc-cfe413197d3f"
      },
      "execution_count": 17,
      "outputs": [
        {
          "output_type": "stream",
          "name": "stdout",
          "text": [
            "<class 'pandas.core.frame.DataFrame'>\n",
            "RangeIndex: 10 entries, 0 to 9\n",
            "Data columns (total 4 columns):\n",
            " #   Column           Non-Null Count  Dtype \n",
            "---  ------           --------------  ----- \n",
            " 0   no_urut          10 non-null     object\n",
            " 1   kategori_produk  10 non-null     object\n",
            " 2   nama_produk      10 non-null     object\n",
            " 3   harga            10 non-null     int64 \n",
            "dtypes: int64(1), object(3)\n",
            "memory usage: 448.0+ bytes\n"
          ]
        }
      ]
    },
    {
      "cell_type": "code",
      "source": [
        "df = df.sort_values(by=\"harga\")\n",
        "df"
      ],
      "metadata": {
        "colab": {
          "base_uri": "https://localhost:8080/",
          "height": 363
        },
        "id": "1qH-yoyam0LQ",
        "outputId": "6209c870-20f6-4ca8-f147-4a93e3da103c"
      },
      "execution_count": 18,
      "outputs": [
        {
          "output_type": "execute_result",
          "data": {
            "text/plain": [
              "  no_urut     kategori_produk                         nama_produk   harga\n",
              "7       8      Gift & Voucher               Gantungan Kunci DQLab   15800\n",
              "3       4  Aksesoris Komputer               Flashdisk DQLab 32 GB   40000\n",
              "6       7      Gift & Voucher  Tas Travel Organizer DigiSkills.id   48000\n",
              "1       2  Aksesoris Komputer               Flashdisk DQLab 64 GB   55000\n",
              "9      10   Alat Tulis Kantor       Sticky Notes DQLab 500 sheets   55000\n",
              "0       1   Alat Tulis Kantor                  Kotak Pensil DQLab   62500\n",
              "8       9   Alat Tulis Kantor           Buku Planner Agenda DQLab   92000\n",
              "5       6   Alat Tulis Kantor  Pulpen Multifunction + Laser DQLab   92500\n",
              "2       3      Gift & Voucher            Gift Voucher DQLab 100rb  100000\n",
              "4       5      Gift & Voucher            Gift Voucher DQLab 250rb  250000"
            ],
            "text/html": [
              "\n",
              "  <div id=\"df-551f9ec4-2367-4674-8269-4997ea282299\">\n",
              "    <div class=\"colab-df-container\">\n",
              "      <div>\n",
              "<style scoped>\n",
              "    .dataframe tbody tr th:only-of-type {\n",
              "        vertical-align: middle;\n",
              "    }\n",
              "\n",
              "    .dataframe tbody tr th {\n",
              "        vertical-align: top;\n",
              "    }\n",
              "\n",
              "    .dataframe thead th {\n",
              "        text-align: right;\n",
              "    }\n",
              "</style>\n",
              "<table border=\"1\" class=\"dataframe\">\n",
              "  <thead>\n",
              "    <tr style=\"text-align: right;\">\n",
              "      <th></th>\n",
              "      <th>no_urut</th>\n",
              "      <th>kategori_produk</th>\n",
              "      <th>nama_produk</th>\n",
              "      <th>harga</th>\n",
              "    </tr>\n",
              "  </thead>\n",
              "  <tbody>\n",
              "    <tr>\n",
              "      <th>7</th>\n",
              "      <td>8</td>\n",
              "      <td>Gift &amp; Voucher</td>\n",
              "      <td>Gantungan Kunci DQLab</td>\n",
              "      <td>15800</td>\n",
              "    </tr>\n",
              "    <tr>\n",
              "      <th>3</th>\n",
              "      <td>4</td>\n",
              "      <td>Aksesoris Komputer</td>\n",
              "      <td>Flashdisk DQLab 32 GB</td>\n",
              "      <td>40000</td>\n",
              "    </tr>\n",
              "    <tr>\n",
              "      <th>6</th>\n",
              "      <td>7</td>\n",
              "      <td>Gift &amp; Voucher</td>\n",
              "      <td>Tas Travel Organizer DigiSkills.id</td>\n",
              "      <td>48000</td>\n",
              "    </tr>\n",
              "    <tr>\n",
              "      <th>1</th>\n",
              "      <td>2</td>\n",
              "      <td>Aksesoris Komputer</td>\n",
              "      <td>Flashdisk DQLab 64 GB</td>\n",
              "      <td>55000</td>\n",
              "    </tr>\n",
              "    <tr>\n",
              "      <th>9</th>\n",
              "      <td>10</td>\n",
              "      <td>Alat Tulis Kantor</td>\n",
              "      <td>Sticky Notes DQLab 500 sheets</td>\n",
              "      <td>55000</td>\n",
              "    </tr>\n",
              "    <tr>\n",
              "      <th>0</th>\n",
              "      <td>1</td>\n",
              "      <td>Alat Tulis Kantor</td>\n",
              "      <td>Kotak Pensil DQLab</td>\n",
              "      <td>62500</td>\n",
              "    </tr>\n",
              "    <tr>\n",
              "      <th>8</th>\n",
              "      <td>9</td>\n",
              "      <td>Alat Tulis Kantor</td>\n",
              "      <td>Buku Planner Agenda DQLab</td>\n",
              "      <td>92000</td>\n",
              "    </tr>\n",
              "    <tr>\n",
              "      <th>5</th>\n",
              "      <td>6</td>\n",
              "      <td>Alat Tulis Kantor</td>\n",
              "      <td>Pulpen Multifunction + Laser DQLab</td>\n",
              "      <td>92500</td>\n",
              "    </tr>\n",
              "    <tr>\n",
              "      <th>2</th>\n",
              "      <td>3</td>\n",
              "      <td>Gift &amp; Voucher</td>\n",
              "      <td>Gift Voucher DQLab 100rb</td>\n",
              "      <td>100000</td>\n",
              "    </tr>\n",
              "    <tr>\n",
              "      <th>4</th>\n",
              "      <td>5</td>\n",
              "      <td>Gift &amp; Voucher</td>\n",
              "      <td>Gift Voucher DQLab 250rb</td>\n",
              "      <td>250000</td>\n",
              "    </tr>\n",
              "  </tbody>\n",
              "</table>\n",
              "</div>\n",
              "      <button class=\"colab-df-convert\" onclick=\"convertToInteractive('df-551f9ec4-2367-4674-8269-4997ea282299')\"\n",
              "              title=\"Convert this dataframe to an interactive table.\"\n",
              "              style=\"display:none;\">\n",
              "        \n",
              "  <svg xmlns=\"http://www.w3.org/2000/svg\" height=\"24px\"viewBox=\"0 0 24 24\"\n",
              "       width=\"24px\">\n",
              "    <path d=\"M0 0h24v24H0V0z\" fill=\"none\"/>\n",
              "    <path d=\"M18.56 5.44l.94 2.06.94-2.06 2.06-.94-2.06-.94-.94-2.06-.94 2.06-2.06.94zm-11 1L8.5 8.5l.94-2.06 2.06-.94-2.06-.94L8.5 2.5l-.94 2.06-2.06.94zm10 10l.94 2.06.94-2.06 2.06-.94-2.06-.94-.94-2.06-.94 2.06-2.06.94z\"/><path d=\"M17.41 7.96l-1.37-1.37c-.4-.4-.92-.59-1.43-.59-.52 0-1.04.2-1.43.59L10.3 9.45l-7.72 7.72c-.78.78-.78 2.05 0 2.83L4 21.41c.39.39.9.59 1.41.59.51 0 1.02-.2 1.41-.59l7.78-7.78 2.81-2.81c.8-.78.8-2.07 0-2.86zM5.41 20L4 18.59l7.72-7.72 1.47 1.35L5.41 20z\"/>\n",
              "  </svg>\n",
              "      </button>\n",
              "      \n",
              "  <style>\n",
              "    .colab-df-container {\n",
              "      display:flex;\n",
              "      flex-wrap:wrap;\n",
              "      gap: 12px;\n",
              "    }\n",
              "\n",
              "    .colab-df-convert {\n",
              "      background-color: #E8F0FE;\n",
              "      border: none;\n",
              "      border-radius: 50%;\n",
              "      cursor: pointer;\n",
              "      display: none;\n",
              "      fill: #1967D2;\n",
              "      height: 32px;\n",
              "      padding: 0 0 0 0;\n",
              "      width: 32px;\n",
              "    }\n",
              "\n",
              "    .colab-df-convert:hover {\n",
              "      background-color: #E2EBFA;\n",
              "      box-shadow: 0px 1px 2px rgba(60, 64, 67, 0.3), 0px 1px 3px 1px rgba(60, 64, 67, 0.15);\n",
              "      fill: #174EA6;\n",
              "    }\n",
              "\n",
              "    [theme=dark] .colab-df-convert {\n",
              "      background-color: #3B4455;\n",
              "      fill: #D2E3FC;\n",
              "    }\n",
              "\n",
              "    [theme=dark] .colab-df-convert:hover {\n",
              "      background-color: #434B5C;\n",
              "      box-shadow: 0px 1px 3px 1px rgba(0, 0, 0, 0.15);\n",
              "      filter: drop-shadow(0px 1px 2px rgba(0, 0, 0, 0.3));\n",
              "      fill: #FFFFFF;\n",
              "    }\n",
              "  </style>\n",
              "\n",
              "      <script>\n",
              "        const buttonEl =\n",
              "          document.querySelector('#df-551f9ec4-2367-4674-8269-4997ea282299 button.colab-df-convert');\n",
              "        buttonEl.style.display =\n",
              "          google.colab.kernel.accessAllowed ? 'block' : 'none';\n",
              "\n",
              "        async function convertToInteractive(key) {\n",
              "          const element = document.querySelector('#df-551f9ec4-2367-4674-8269-4997ea282299');\n",
              "          const dataTable =\n",
              "            await google.colab.kernel.invokeFunction('convertToInteractive',\n",
              "                                                     [key], {});\n",
              "          if (!dataTable) return;\n",
              "\n",
              "          const docLinkHtml = 'Like what you see? Visit the ' +\n",
              "            '<a target=\"_blank\" href=https://colab.research.google.com/notebooks/data_table.ipynb>data table notebook</a>'\n",
              "            + ' to learn more about interactive tables.';\n",
              "          element.innerHTML = '';\n",
              "          dataTable['output_type'] = 'display_data';\n",
              "          await google.colab.output.renderOutput(dataTable, element);\n",
              "          const docLink = document.createElement('div');\n",
              "          docLink.innerHTML = docLinkHtml;\n",
              "          element.appendChild(docLink);\n",
              "        }\n",
              "      </script>\n",
              "    </div>\n",
              "  </div>\n",
              "  "
            ]
          },
          "metadata": {},
          "execution_count": 18
        }
      ]
    },
    {
      "cell_type": "code",
      "source": [
        "plt.barh(df['nama_produk'], df['harga'])"
      ],
      "metadata": {
        "colab": {
          "base_uri": "https://localhost:8080/",
          "height": 282
        },
        "id": "Hv9nGzuSnHR4",
        "outputId": "80ef7e98-7d2d-44ae-a01b-0244d5d83bfb"
      },
      "execution_count": 19,
      "outputs": [
        {
          "output_type": "execute_result",
          "data": {
            "text/plain": [
              "<BarContainer object of 10 artists>"
            ]
          },
          "metadata": {},
          "execution_count": 19
        },
        {
          "output_type": "display_data",
          "data": {
            "text/plain": [
              "<Figure size 432x288 with 1 Axes>"
            ],
            "image/png": "[encoded data removed]"
          },
          "metadata": {
            "needs_background": "light"
          }
        }
      ]
    },
    {
      "cell_type": "markdown",
      "source": [
        "## **Praktek: Merubah pewarnaan pada Bar Plot untuk data master produk**"
      ],
      "metadata": {
        "id": "pZC4lSyKsSn8"
      }
    },
    {
      "cell_type": "code",
      "source": [
        "#merubah warna dengan nama warna\n",
        "plt.barh(nama_produk, harga, color = 'red')\n",
        "plt.show()"
      ],
      "metadata": {
        "id": "VeBjzJ0ZsV-3",
        "colab": {
          "base_uri": "https://localhost:8080/",
          "height": 265
        },
        "outputId": "6c8c2f79-3209-4256-dfb3-ae66f9d3d6f5"
      },
      "execution_count": 20,
      "outputs": [
        {
          "output_type": "display_data",
          "data": {
            "text/plain": [
              "<Figure size 432x288 with 1 Axes>"
            ],
            "image/png": "[encoded data removed]"
          },
          "metadata": {
            "needs_background": "light"
          }
        }
      ]
    },
    {
      "cell_type": "code",
      "source": [
        "#merubah warna dengan hex code\n",
        "plt.barh(nama_produk, harga, color = '#bed232')\n",
        "plt.show()"
      ],
      "metadata": {
        "id": "ORoaX7e83WQ2",
        "colab": {
          "base_uri": "https://localhost:8080/",
          "height": 265
        },
        "outputId": "21fee856-d9b3-4e96-a9ab-04481684d52a"
      },
      "execution_count": 21,
      "outputs": [
        {
          "output_type": "display_data",
          "data": {
            "text/plain": [
              "<Figure size 432x288 with 1 Axes>"
            ],
            "image/png": "[encoded data removed]"
          },
          "metadata": {
            "needs_background": "light"
          }
        }
      ]
    },
    {
      "cell_type": "markdown",
      "source": [
        "## **Praktek: Menggunakan predefined style pada Bar Plot**"
      ],
      "metadata": {
        "id": "nQ-la7C0sWn8"
      }
    },
    {
      "cell_type": "code",
      "source": [
        "#default setting & style\n",
        "plt.bar(nama_produk, harga)\n",
        "plt.show()"
      ],
      "metadata": {
        "id": "OdczhWj9_PL6",
        "colab": {
          "base_uri": "https://localhost:8080/",
          "height": 266
        },
        "outputId": "07872466-9883-44ba-fb99-6242af43e2c9"
      },
      "execution_count": 22,
      "outputs": [
        {
          "output_type": "display_data",
          "data": {
            "text/plain": [
              "<Figure size 432x288 with 1 Axes>"
            ],
            "image/png": "[encoded data removed]"
          },
          "metadata": {
            "needs_background": "light"
          }
        }
      ]
    },
    {
      "cell_type": "code",
      "source": [
        "plt.bar(nama_produk, harga, color='#bed232') #merubah warna dengan hex code\n",
        "plt.xticks(rotation=90)                      #merotasi label di sumbu x\n",
        "plt.xlabel('Nama Produk')                    #memberi nama label di sumbu x \n",
        "plt.ylabel('Harga')                          #memberi nama label di sumbu y\n",
        "plt.show()"
      ],
      "metadata": {
        "id": "eVUM56bEsZas",
        "colab": {
          "base_uri": "https://localhost:8080/",
          "height": 450
        },
        "outputId": "50ccde38-f6ae-4cfa-ba33-10c01fef05e3"
      },
      "execution_count": 23,
      "outputs": [
        {
          "output_type": "display_data",
          "data": {
            "text/plain": [
              "<Figure size 432x288 with 1 Axes>"
            ],
            "image/png": "[encoded data removed]"
          },
          "metadata": {
            "needs_background": "light"
          }
        }
      ]
    }
  ]
}